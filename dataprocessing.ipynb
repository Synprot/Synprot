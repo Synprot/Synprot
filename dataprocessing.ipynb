{
 "cells": [
  {
   "cell_type": "code",
   "execution_count": 10,
   "id": "5f7e71eb",
   "metadata": {},
   "outputs": [],
   "source": [
    "from Bio import SeqIO\n",
    "import pickle\n",
    "import random\n",
    "from Bio import AlignIO\n",
    "import numpy as np"
   ]
  },
  {
   "cell_type": "code",
   "execution_count": 17,
   "id": "7f487df3",
   "metadata": {},
   "outputs": [],
   "source": [
    "# transformation des sequences en tableaux utilisables par les modeles\n",
    "def dataset_array(file,file_sortie) : \n",
    "    list_align  = []\n",
    "    #On ouvre le fichier contenant les séquences alignées \n",
    "    for align in AlignIO.read(file, 'clustal') :\n",
    "        list_align.append(align)\n",
    "    #on ouvre le fichier contenant les noms de colonnes\n",
    "    with open('nom_colonne', 'rb') as f1:\n",
    "        nom_colonne = pickle.load(f1)\n",
    "    liste_prot = []\n",
    "    #Met 1 dans la colonne de l'aa observé dans la séquence\n",
    "    for j in range(len(list_align)) :\n",
    "        test = np.zeros((len(list_align[j]),len(nom_colonne)))\n",
    "        for i in range(len(list_align[j])):\n",
    "            if list_align[j].seq[i].__str__() != 'X' :\n",
    "                test[i,nom_colonne.index(list_align[j].seq[i].__str__())] = 1\n",
    "            else :\n",
    "                test[i,13] = 1\n",
    "        liste_prot.append(test)\n",
    "    #On sauvegarde dans un fichier pour utilisation future\n",
    "    with open(file_sortie, 'wb') as f1:\n",
    "        pickle.dump(liste_prot, f1)"
   ]
  },
  {
   "cell_type": "code",
   "execution_count": 18,
   "id": "c6a5af83",
   "metadata": {},
   "outputs": [],
   "source": [
    "dataset_array('dataset_tau_align.clustal_num','dataset_tau_array')"
   ]
  },
  {
   "cell_type": "code",
   "execution_count": 20,
   "id": "eebfcc55",
   "metadata": {},
   "outputs": [],
   "source": [
    "with open('dataset_tau_array', 'rb') as f1:\n",
    "        df = pickle.load(f1)"
   ]
  },
  {
   "cell_type": "code",
   "execution_count": 23,
   "id": "499fad53",
   "metadata": {},
   "outputs": [
    {
     "data": {
      "text/plain": [
       "(1500, 2598, 21)"
      ]
     },
     "execution_count": 23,
     "metadata": {},
     "output_type": "execute_result"
    }
   ],
   "source": [
    "np.shape(df)"
   ]
  }
 ],
 "metadata": {
  "kernelspec": {
   "display_name": "Python 3 (ipykernel)",
   "language": "python",
   "name": "python3"
  },
  "language_info": {
   "codemirror_mode": {
    "name": "ipython",
    "version": 3
   },
   "file_extension": ".py",
   "mimetype": "text/x-python",
   "name": "python",
   "nbconvert_exporter": "python",
   "pygments_lexer": "ipython3",
   "version": "3.8.10"
  }
 },
 "nbformat": 4,
 "nbformat_minor": 5
}

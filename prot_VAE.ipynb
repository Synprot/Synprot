{
 "cells": [
  {
   "cell_type": "code",
   "execution_count": 1,
   "id": "c1886967",
   "metadata": {},
   "outputs": [],
   "source": [
    "from numpy import zeros, ones, expand_dims, asarray\n",
    "from numpy.random import randn, randint\n",
    "from keras.models import Sequential, load_model,Model\n",
    "from keras.layers import Input, Dense, Reshape, Flatten\n",
    "from keras.layers import LeakyReLU, Dropout\n",
    "from keras.layers import BatchNormalization, Activation\n",
    "from sklearn.model_selection import train_test_split\n",
    "from keras import initializers\n",
    "from keras.initializers import RandomNormal\n",
    "from matplotlib import pyplot\n",
    "import numpy as np\n",
    "from math import sqrt\n",
    "import pickle"
   ]
  },
  {
   "cell_type": "code",
   "execution_count": 2,
   "id": "d1988c90",
   "metadata": {},
   "outputs": [],
   "source": [
    "#chargement des données\n",
    "with open('dataset_tau_array', 'rb') as f:\n",
    "    X_train = pickle.load(f)\n",
    "X_train = np.array(X_train)"
   ]
  },
  {
   "cell_type": "code",
   "execution_count": 3,
   "id": "1ffcd569",
   "metadata": {},
   "outputs": [],
   "source": [
    "with open('nom_colonne','rb') as f:\n",
    "    nom_col = pickle.load(f)"
   ]
  },
  {
   "cell_type": "code",
   "execution_count": 4,
   "id": "b324c50f",
   "metadata": {},
   "outputs": [],
   "source": [
    "#test,train\n",
    "X_train,X_test = train_test_split(X_train,test_size = 0.2)"
   ]
  },
  {
   "cell_type": "code",
   "execution_count": 6,
   "id": "232f5413",
   "metadata": {},
   "outputs": [],
   "source": [
    "def build_autoencoder(in_shape=(2598, 21, 1), size_mini = 10) :\n",
    "    autoencoder = Sequential()\n",
    "    #encoder\n",
    "    autoencoder.add(Input(shape=in_shape))\n",
    "    autoencoder.add(Flatten())\n",
    "    autoencoder.add(Dense(512))\n",
    "    autoencoder.add(LeakyReLU(alpha=0.2))\n",
    "    autoencoder.add(Dropout(0.3))\n",
    "    autoencoder.add(Dense(256))\n",
    "    autoencoder.add(LeakyReLU(alpha=0.2))\n",
    "    autoencoder.add(Dropout(0.3))\n",
    "    autoencoder.add(Dense(size_mini))\n",
    "    #decoder\n",
    "    autoencoder.add(BatchNormalization())\n",
    "    autoencoder.add(Dense(256))\n",
    "    autoencoder.add(LeakyReLU(alpha=0.2))\n",
    "    autoencoder.add(Dense(400))\n",
    "    autoencoder.add(LeakyReLU(alpha=0.2))\n",
    "    autoencoder.add(Dense(512))\n",
    "    autoencoder.add(LeakyReLU(alpha=0.2))\n",
    "    autoencoder.add(Dense(2598 * 21 * 1,activation='sigmoid'))\n",
    "    autoencoder.add(Reshape((2598, 21, 1)))\n",
    "    autoencoder.compile(loss='categorical_crossentropy', optimizer='Adam', metrics=['accuracy'])\n",
    "    return autoencoder"
   ]
  },
  {
   "cell_type": "code",
   "execution_count": 7,
   "id": "a7dc69a0",
   "metadata": {},
   "outputs": [],
   "source": [
    "autoencoder = build_autoencoder()"
   ]
  },
  {
   "cell_type": "code",
   "execution_count": 8,
   "id": "423bb161",
   "metadata": {},
   "outputs": [
    {
     "name": "stdout",
     "output_type": "stream",
     "text": [
      "Model: \"sequential\"\n",
      "_________________________________________________________________\n",
      " Layer (type)                Output Shape              Param #   \n",
      "=================================================================\n",
      " flatten (Flatten)           (None, 54558)             0         \n",
      "                                                                 \n",
      " dense (Dense)               (None, 512)               27934208  \n",
      "                                                                 \n",
      " leaky_re_lu (LeakyReLU)     (None, 512)               0         \n",
      "                                                                 \n",
      " dropout (Dropout)           (None, 512)               0         \n",
      "                                                                 \n",
      " dense_1 (Dense)             (None, 256)               131328    \n",
      "                                                                 \n",
      " leaky_re_lu_1 (LeakyReLU)   (None, 256)               0         \n",
      "                                                                 \n",
      " dropout_1 (Dropout)         (None, 256)               0         \n",
      "                                                                 \n",
      " dense_2 (Dense)             (None, 10)                2570      \n",
      "                                                                 \n",
      " batch_normalization (BatchN  (None, 10)               40        \n",
      " ormalization)                                                   \n",
      "                                                                 \n",
      " dense_3 (Dense)             (None, 256)               2816      \n",
      "                                                                 \n",
      " leaky_re_lu_2 (LeakyReLU)   (None, 256)               0         \n",
      "                                                                 \n",
      " dense_4 (Dense)             (None, 400)               102800    \n",
      "                                                                 \n",
      " leaky_re_lu_3 (LeakyReLU)   (None, 400)               0         \n",
      "                                                                 \n",
      " dense_5 (Dense)             (None, 512)               205312    \n",
      "                                                                 \n",
      " leaky_re_lu_4 (LeakyReLU)   (None, 512)               0         \n",
      "                                                                 \n",
      " dense_6 (Dense)             (None, 54558)             27988254  \n",
      "                                                                 \n",
      " reshape (Reshape)           (None, 2598, 21, 1)       0         \n",
      "                                                                 \n",
      "=================================================================\n",
      "Total params: 56,367,328\n",
      "Trainable params: 56,367,308\n",
      "Non-trainable params: 20\n",
      "_________________________________________________________________\n"
     ]
    }
   ],
   "source": [
    "autoencoder.summary()"
   ]
  },
  {
   "cell_type": "code",
   "execution_count": 9,
   "id": "1bba93ad",
   "metadata": {},
   "outputs": [
    {
     "name": "stdout",
     "output_type": "stream",
     "text": [
      "Epoch 1/4\n",
      "10/10 [==============================] - 5s 414ms/step - loss: 2.8394 - accuracy: 0.8652 - val_loss: 0.7519 - val_accuracy: 0.9781\n",
      "Epoch 2/4\n",
      "10/10 [==============================] - 4s 390ms/step - loss: 0.8598 - accuracy: 0.9809 - val_loss: 0.5808 - val_accuracy: 0.9850\n",
      "Epoch 3/4\n",
      "10/10 [==============================] - 4s 392ms/step - loss: 0.3490 - accuracy: 0.9853 - val_loss: 0.5355 - val_accuracy: 0.9861\n",
      "Epoch 4/4\n",
      "10/10 [==============================] - 4s 391ms/step - loss: 0.3181 - accuracy: 0.9860 - val_loss: 0.4913 - val_accuracy: 0.9864\n"
     ]
    },
    {
     "data": {
      "text/plain": [
       "<keras.callbacks.History at 0x1f473742460>"
      ]
     },
     "execution_count": 9,
     "metadata": {},
     "output_type": "execute_result"
    }
   ],
   "source": [
    "#fitting même entrée que la sortie\n",
    "autoencoder.fit(X_train,X_train,epochs=4, batch_size=128,validation_data = (X_test,X_test))"
   ]
  },
  {
   "cell_type": "code",
   "execution_count": 10,
   "id": "fae8c681",
   "metadata": {},
   "outputs": [
    {
     "name": "stdout",
     "output_type": "stream",
     "text": [
      "INFO:tensorflow:Assets written to: ./exemple_VAE_model/model_VAE\\assets\n"
     ]
    }
   ],
   "source": [
    "autoencoder.save('./exemple_VAE_model/model_VAE')"
   ]
  },
  {
   "cell_type": "code",
   "execution_count": 29,
   "id": "9d700d7c",
   "metadata": {},
   "outputs": [],
   "source": [
    "autoencoder = load_model('./exemple_VAE_model/model_VAE')"
   ]
  },
  {
   "cell_type": "code",
   "execution_count": 11,
   "id": "92d93133",
   "metadata": {},
   "outputs": [],
   "source": [
    "#on récupère le decoder qui correspond aux dernières couches\n",
    "decoder = Sequential()\n",
    "decoder.add(Input(shape=10))\n",
    "for layer in autoencoder.layers[8:]: decoder.add(layer)"
   ]
  },
  {
   "cell_type": "code",
   "execution_count": 12,
   "id": "0bbc5683",
   "metadata": {},
   "outputs": [
    {
     "name": "stdout",
     "output_type": "stream",
     "text": [
      "Model: \"sequential_1\"\n",
      "_________________________________________________________________\n",
      " Layer (type)                Output Shape              Param #   \n",
      "=================================================================\n",
      " batch_normalization (BatchN  (None, 10)               40        \n",
      " ormalization)                                                   \n",
      "                                                                 \n",
      " dense_3 (Dense)             (None, 256)               2816      \n",
      "                                                                 \n",
      " leaky_re_lu_2 (LeakyReLU)   (None, 256)               0         \n",
      "                                                                 \n",
      " dense_4 (Dense)             (None, 400)               102800    \n",
      "                                                                 \n",
      " leaky_re_lu_3 (LeakyReLU)   (None, 400)               0         \n",
      "                                                                 \n",
      " dense_5 (Dense)             (None, 512)               205312    \n",
      "                                                                 \n",
      " leaky_re_lu_4 (LeakyReLU)   (None, 512)               0         \n",
      "                                                                 \n",
      " dense_6 (Dense)             (None, 54558)             27988254  \n",
      "                                                                 \n",
      " reshape (Reshape)           (None, 2598, 21, 1)       0         \n",
      "                                                                 \n",
      "=================================================================\n",
      "Total params: 28,299,222\n",
      "Trainable params: 28,299,202\n",
      "Non-trainable params: 20\n",
      "_________________________________________________________________\n"
     ]
    }
   ],
   "source": [
    "decoder.summary()"
   ]
  },
  {
   "cell_type": "code",
   "execution_count": 14,
   "id": "25dfa959",
   "metadata": {},
   "outputs": [],
   "source": [
    "#On vient générer une entrée de nombre aléatoire pour que le generator tente de les transformer en image\n",
    "def generate_latent_points(latent_dim, n_samples):\n",
    "    x_input = randn(latent_dim * n_samples)  \n",
    "    z_input = x_input.reshape(n_samples, latent_dim)\n",
    "    return z_input"
   ]
  },
  {
   "cell_type": "code",
   "execution_count": 15,
   "id": "a14ac510",
   "metadata": {},
   "outputs": [],
   "source": [
    "def to_sequence(prot_array,nom_col) :\n",
    "    prot_aa = []\n",
    "    for i in range(prot_array.shape[1]) :\n",
    "        maxi = 0\n",
    "        index = 0\n",
    "        for j in range(prot_array[:,i,:,:].shape[1]) :\n",
    "            if prot_array[0,i,j,0] > maxi :\n",
    "                maxi = prot_array[:,i,j,:]\n",
    "                index = j\n",
    "        prot_aa.append(nom_col[index])\n",
    "        prot_aa = [i for i in prot_aa if i != '-']\n",
    "    return ''.join(prot_aa)"
   ]
  },
  {
   "cell_type": "code",
   "execution_count": 16,
   "id": "aee7504a",
   "metadata": {},
   "outputs": [],
   "source": [
    "latent = generate_latent_points(10,1)\n",
    "prot_array = decoder.predict(latent)\n",
    "prot_seq = to_sequence(prot_array,nom_col)"
   ]
  },
  {
   "cell_type": "code",
   "execution_count": 17,
   "id": "d8733ace",
   "metadata": {},
   "outputs": [
    {
     "data": {
      "text/plain": [
       "'MAEPRQEFVMEDHAQGYTQDEGDDHGLKESPLQTPADDGSEEPGSETSDAKSTPTAEDTAPLVEGQAHEIPEGTTAEEAGIGDTPNLEDQAAGHVTQGARGKKKGADGKTGTKIATPRGAAPPGQKGQANATRIPAKTPPAPKTPPSSGESPKSGDRSGYSSPGSPGTPGSRSRTPSLPTPPTREPKKVAVVRTPPKSPSSAKSRLQTAPVPMPDLKNVKSKIGSTENLKHQPGGGKVQIINKKLDSNVQSKCGSKDNIKHVPGGGSVQIVYKPVDLSKVTSKCGSLGNIHHKPGGGQVEVKSEKLDFKDRVQSKIGSLDNITHVPGGGNKKIETHKLTFRENAKAKTDHGAEIVYKSPVVSGDTSPRHLSNVSSTGSIDMVDSPQLATLADEVSASLAKQGL'"
      ]
     },
     "execution_count": 17,
     "metadata": {},
     "output_type": "execute_result"
    }
   ],
   "source": [
    "prot_seq"
   ]
  },
  {
   "cell_type": "code",
   "execution_count": null,
   "id": "f3993fe3",
   "metadata": {},
   "outputs": [],
   "source": []
  }
 ],
 "metadata": {
  "kernelspec": {
   "display_name": "Python 3 (ipykernel)",
   "language": "python",
   "name": "python3"
  },
  "language_info": {
   "codemirror_mode": {
    "name": "ipython",
    "version": 3
   },
   "file_extension": ".py",
   "mimetype": "text/x-python",
   "name": "python",
   "nbconvert_exporter": "python",
   "pygments_lexer": "ipython3",
   "version": "3.8.10"
  }
 },
 "nbformat": 4,
 "nbformat_minor": 5
}

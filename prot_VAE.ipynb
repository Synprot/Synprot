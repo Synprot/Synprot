{
 "cells": [
  {
   "cell_type": "code",
   "execution_count": 41,
   "id": "c1886967",
   "metadata": {},
   "outputs": [],
   "source": [
    "from numpy import zeros, ones, expand_dims, asarray\n",
    "from numpy.random import randn, randint\n",
    "from keras.models import Sequential, load_model,Model\n",
    "from keras.layers import Input, Dense, Reshape, Flatten\n",
    "from keras.layers import LeakyReLU, Dropout\n",
    "from keras.layers import BatchNormalization, Activation\n",
    "from sklearn.model_selection import train_test_split\n",
    "from keras import initializers\n",
    "from keras.initializers import RandomNormal\n",
    "from matplotlib import pyplot\n",
    "import numpy as np\n",
    "from math import sqrt\n",
    "import pickle"
   ]
  },
  {
   "cell_type": "code",
   "execution_count": 3,
   "id": "d1988c90",
   "metadata": {},
   "outputs": [],
   "source": [
    "#chargement des données\n",
    "with open('liste_prot', 'rb') as f:\n",
    "    X_train = pickle.load(f)\n",
    "X_train = np.array(X_train)"
   ]
  },
  {
   "cell_type": "code",
   "execution_count": 50,
   "id": "b324c50f",
   "metadata": {},
   "outputs": [],
   "source": [
    "#test,train\n",
    "X_train,X_test = train_test_split(X_train,test_size = 0.2)"
   ]
  },
  {
   "cell_type": "code",
   "execution_count": 52,
   "id": "f2fea960",
   "metadata": {},
   "outputs": [
    {
     "data": {
      "text/plain": [
       "(700, 939, 21)"
      ]
     },
     "execution_count": 52,
     "metadata": {},
     "output_type": "execute_result"
    }
   ],
   "source": [
    "#700 proteines de 939 aa et 21 aa différents\n",
    "X_test.shape"
   ]
  },
  {
   "cell_type": "code",
   "execution_count": 45,
   "id": "232f5413",
   "metadata": {},
   "outputs": [],
   "source": [
    "def build_autoencoder(in_shape=(939, 21, 1), size_mini = 10) :\n",
    "    autoencoder = Sequential()\n",
    "    #encoder\n",
    "    autoencoder.add(Input(shape=in_shape))\n",
    "    autoencoder.add(Flatten())\n",
    "    autoencoder.add(Dense(512))\n",
    "    autoencoder.add(LeakyReLU(alpha=0.2))\n",
    "    autoencoder.add(Dropout(0.3))\n",
    "    autoencoder.add(Dense(256))\n",
    "    autoencoder.add(LeakyReLU(alpha=0.2))\n",
    "    autoencoder.add(Dropout(0.3))\n",
    "    autoencoder.add(Dense(size_mini))\n",
    "    #decoder\n",
    "    autoencoder.add(Dense(256))\n",
    "    autoencoder.add(LeakyReLU(alpha=0.2))\n",
    "    autoencoder.add(Dense(400))\n",
    "    autoencoder.add(LeakyReLU(alpha=0.2))\n",
    "    autoencoder.add(Dense(512))\n",
    "    autoencoder.add(LeakyReLU(alpha=0.2))\n",
    "    autoencoder.add(Dense(939 * 21 * 1))\n",
    "    autoencoder.add(Reshape((939, 21, 1)))\n",
    "    autoencoder.compile(loss='categorical_crossentropy', optimizer='Adam', metrics=['accuracy'])\n",
    "    return autoencoder"
   ]
  },
  {
   "cell_type": "code",
   "execution_count": 38,
   "id": "a7dc69a0",
   "metadata": {},
   "outputs": [],
   "source": [
    "autoencoder = build_autoencoder()"
   ]
  },
  {
   "cell_type": "code",
   "execution_count": 39,
   "id": "423bb161",
   "metadata": {},
   "outputs": [
    {
     "name": "stdout",
     "output_type": "stream",
     "text": [
      "Model: \"sequential_21\"\n",
      "_________________________________________________________________\n",
      " Layer (type)                Output Shape              Param #   \n",
      "=================================================================\n",
      " flatten_7 (Flatten)         (None, 19719)             0         \n",
      "                                                                 \n",
      " dense_40 (Dense)            (None, 512)               10096640  \n",
      "                                                                 \n",
      " leaky_re_lu_29 (LeakyReLU)  (None, 512)               0         \n",
      "                                                                 \n",
      " dropout_14 (Dropout)        (None, 512)               0         \n",
      "                                                                 \n",
      " dense_41 (Dense)            (None, 256)               131328    \n",
      "                                                                 \n",
      " leaky_re_lu_30 (LeakyReLU)  (None, 256)               0         \n",
      "                                                                 \n",
      " dropout_15 (Dropout)        (None, 256)               0         \n",
      "                                                                 \n",
      " dense_42 (Dense)            (None, 10)                2570      \n",
      "                                                                 \n",
      " dense_43 (Dense)            (None, 256)               2816      \n",
      "                                                                 \n",
      " leaky_re_lu_31 (LeakyReLU)  (None, 256)               0         \n",
      "                                                                 \n",
      " dense_44 (Dense)            (None, 400)               102800    \n",
      "                                                                 \n",
      " leaky_re_lu_32 (LeakyReLU)  (None, 400)               0         \n",
      "                                                                 \n",
      " dense_45 (Dense)            (None, 512)               205312    \n",
      "                                                                 \n",
      " leaky_re_lu_33 (LeakyReLU)  (None, 512)               0         \n",
      "                                                                 \n",
      " dense_46 (Dense)            (None, 19719)             10115847  \n",
      "                                                                 \n",
      " reshape_5 (Reshape)         (None, 939, 21, 1)        0         \n",
      "                                                                 \n",
      "=================================================================\n",
      "Total params: 20,657,313\n",
      "Trainable params: 20,657,313\n",
      "Non-trainable params: 0\n",
      "_________________________________________________________________\n"
     ]
    }
   ],
   "source": [
    "autoencoder.summary()"
   ]
  },
  {
   "cell_type": "code",
   "execution_count": 54,
   "id": "1bba93ad",
   "metadata": {},
   "outputs": [
    {
     "name": "stdout",
     "output_type": "stream",
     "text": [
      "Epoch 1/20\n",
      "22/22 [==============================] - 5s 231ms/step - loss: 0.3456 - accuracy: 0.9824 - val_loss: 0.4019 - val_accuracy: 0.9818\n",
      "Epoch 2/20\n",
      "22/22 [==============================] - 5s 234ms/step - loss: 0.3355 - accuracy: 0.9829 - val_loss: 0.3991 - val_accuracy: 0.9823\n",
      "Epoch 3/20\n",
      "22/22 [==============================] - 5s 234ms/step - loss: 0.3263 - accuracy: 0.9832 - val_loss: 0.3945 - val_accuracy: 0.9822\n",
      "Epoch 4/20\n",
      "22/22 [==============================] - 5s 231ms/step - loss: 0.3186 - accuracy: 0.9835 - val_loss: 0.3909 - val_accuracy: 0.9828\n",
      "Epoch 5/20\n",
      "22/22 [==============================] - 5s 235ms/step - loss: 0.3112 - accuracy: 0.9839 - val_loss: 0.3890 - val_accuracy: 0.9830\n",
      "Epoch 6/20\n",
      "22/22 [==============================] - 5s 234ms/step - loss: 0.3049 - accuracy: 0.9842 - val_loss: 0.3868 - val_accuracy: 0.9830\n",
      "Epoch 7/20\n",
      "22/22 [==============================] - 5s 233ms/step - loss: 0.2968 - accuracy: 0.9845 - val_loss: 0.3827 - val_accuracy: 0.9836\n",
      "Epoch 8/20\n",
      "22/22 [==============================] - 5s 235ms/step - loss: 0.2902 - accuracy: 0.9847 - val_loss: 0.3841 - val_accuracy: 0.9832\n",
      "Epoch 9/20\n",
      "22/22 [==============================] - 5s 235ms/step - loss: 0.2840 - accuracy: 0.9850 - val_loss: 0.3801 - val_accuracy: 0.9836\n",
      "Epoch 10/20\n",
      "22/22 [==============================] - 5s 236ms/step - loss: 0.2770 - accuracy: 0.9852 - val_loss: 0.3778 - val_accuracy: 0.9844\n",
      "Epoch 11/20\n",
      "22/22 [==============================] - 5s 238ms/step - loss: 0.2727 - accuracy: 0.9854 - val_loss: 0.3784 - val_accuracy: 0.9844\n",
      "Epoch 12/20\n",
      "22/22 [==============================] - 5s 237ms/step - loss: 0.2673 - accuracy: 0.9856 - val_loss: 0.3773 - val_accuracy: 0.9845\n",
      "Epoch 13/20\n",
      "22/22 [==============================] - 5s 236ms/step - loss: 0.2615 - accuracy: 0.9859 - val_loss: 0.3772 - val_accuracy: 0.9844\n",
      "Epoch 14/20\n",
      "22/22 [==============================] - 5s 234ms/step - loss: 0.2581 - accuracy: 0.9859 - val_loss: 0.3755 - val_accuracy: 0.9847\n",
      "Epoch 15/20\n",
      "22/22 [==============================] - 5s 235ms/step - loss: 0.2523 - accuracy: 0.9861 - val_loss: 0.3748 - val_accuracy: 0.9845\n",
      "Epoch 16/20\n",
      "22/22 [==============================] - 5s 235ms/step - loss: 0.2489 - accuracy: 0.9862 - val_loss: 0.3769 - val_accuracy: 0.9850\n",
      "Epoch 17/20\n",
      "22/22 [==============================] - 5s 236ms/step - loss: 0.2434 - accuracy: 0.9865 - val_loss: 0.3746 - val_accuracy: 0.9849\n",
      "Epoch 18/20\n",
      "22/22 [==============================] - 5s 235ms/step - loss: 0.2391 - accuracy: 0.9864 - val_loss: 0.3776 - val_accuracy: 0.9847\n",
      "Epoch 19/20\n",
      "22/22 [==============================] - 5s 236ms/step - loss: 0.2356 - accuracy: 0.9866 - val_loss: 0.3753 - val_accuracy: 0.9848\n",
      "Epoch 20/20\n",
      "22/22 [==============================] - 5s 235ms/step - loss: 0.2322 - accuracy: 0.9867 - val_loss: 0.3780 - val_accuracy: 0.9849\n"
     ]
    },
    {
     "data": {
      "text/plain": [
       "<keras.callbacks.History at 0x1f56c20c220>"
      ]
     },
     "execution_count": 54,
     "metadata": {},
     "output_type": "execute_result"
    }
   ],
   "source": [
    "#fitting même entrée que la sortie\n",
    "autoencoder.fit(X_train,X_train,epochs=20, batch_size=128,validation_data = (X_test,X_test))"
   ]
  },
  {
   "cell_type": "code",
   "execution_count": 60,
   "id": "92d93133",
   "metadata": {},
   "outputs": [],
   "source": [
    "#on récupère le decoder qui correspond aux dernières couches\n",
    "decoder = Sequential()\n",
    "decoder.add(Input(shape=10))\n",
    "for layer in autoencoder.layers[8:]: decoder.add(layer)"
   ]
  },
  {
   "cell_type": "code",
   "execution_count": 61,
   "id": "0bbc5683",
   "metadata": {},
   "outputs": [
    {
     "name": "stdout",
     "output_type": "stream",
     "text": [
      "Model: \"sequential_23\"\n",
      "_________________________________________________________________\n",
      " Layer (type)                Output Shape              Param #   \n",
      "=================================================================\n",
      " dense_43 (Dense)            (None, 256)               2816      \n",
      "                                                                 \n",
      " leaky_re_lu_31 (LeakyReLU)  (None, 256)               0         \n",
      "                                                                 \n",
      " dense_44 (Dense)            (None, 400)               102800    \n",
      "                                                                 \n",
      " leaky_re_lu_32 (LeakyReLU)  (None, 400)               0         \n",
      "                                                                 \n",
      " dense_45 (Dense)            (None, 512)               205312    \n",
      "                                                                 \n",
      " leaky_re_lu_33 (LeakyReLU)  (None, 512)               0         \n",
      "                                                                 \n",
      " dense_46 (Dense)            (None, 19719)             10115847  \n",
      "                                                                 \n",
      " reshape_5 (Reshape)         (None, 939, 21, 1)        0         \n",
      "                                                                 \n",
      "=================================================================\n",
      "Total params: 10,426,775\n",
      "Trainable params: 10,426,775\n",
      "Non-trainable params: 0\n",
      "_________________________________________________________________\n"
     ]
    }
   ],
   "source": [
    "decoder.summary()"
   ]
  },
  {
   "cell_type": "code",
   "execution_count": 63,
   "id": "5c2dbbf3",
   "metadata": {},
   "outputs": [],
   "source": [
    "#on créée une nouvelle protéine\n",
    "test = [[0,1,0,1,0,1,0,1,0,1]]\n",
    "prot = decoder.predict(test)"
   ]
  },
  {
   "cell_type": "code",
   "execution_count": 66,
   "id": "8dd68382",
   "metadata": {},
   "outputs": [
    {
     "data": {
      "text/plain": [
       "(1, 939, 21, 1)"
      ]
     },
     "execution_count": 66,
     "metadata": {},
     "output_type": "execute_result"
    }
   ],
   "source": [
    "prot.shape"
   ]
  },
  {
   "cell_type": "code",
   "execution_count": null,
   "id": "50dd673e",
   "metadata": {},
   "outputs": [],
   "source": [
    "#to_do :\n",
    "#fonction prenant des nombres aléatoires pour la création de nouvelles prot\n",
    "#passer de AE à VAE en rajoutant l'étape de sampling\n",
    "#fonction permettant de passer du tableau en 939*21 à une séquence type \"HWY...\""
   ]
  }
 ],
 "metadata": {
  "kernelspec": {
   "display_name": "Python 3 (ipykernel)",
   "language": "python",
   "name": "python3"
  },
  "language_info": {
   "codemirror_mode": {
    "name": "ipython",
    "version": 3
   },
   "file_extension": ".py",
   "mimetype": "text/x-python",
   "name": "python",
   "nbconvert_exporter": "python",
   "pygments_lexer": "ipython3",
   "version": "3.8.10"
  }
 },
 "nbformat": 4,
 "nbformat_minor": 5
}
